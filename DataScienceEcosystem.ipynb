{
 "cells": [
  {
   "cell_type": "markdown",
   "id": "3719303a-6ca4-450b-ba96-f3ef270eca93",
   "metadata": {},
   "source": [
    "# Data Science Tools and Ecosystem"
   ]
  },
  {
   "cell_type": "markdown",
   "id": "5a62909e-4903-4d64-b76b-da5be0c9754f",
   "metadata": {},
   "source": [
    "In this notebook, Data Science Tools and Ecosystem are summarized."
   ]
  },
  {
   "cell_type": "markdown",
   "id": "7ec96ca4-5107-47d2-b63f-0a4bf668d5ac",
   "metadata": {},
   "source": [
    "**Objectives:**\n",
    "- List popular languages for Data Science\n",
    "- List libraries used by Data Scientists\n",
    "- Making Data Science Tools table"
   ]
  },
  {
   "cell_type": "markdown",
   "id": "7baee3f2-2cd4-47ea-abe5-71470f67e324",
   "metadata": {},
   "source": [
    "Some of the popular languages that Data Scientists use are:\n",
    "1. Python\n",
    "2. R\n",
    "3. Java\n",
    "4. SQL\n",
    "5. Julia\n"
   ]
  },
  {
   "cell_type": "markdown",
   "id": "3467a948-5c4a-43fa-b643-ace2e44c8a02",
   "metadata": {},
   "source": [
    "Some of the commonly used libraries used by Data Scientists include:\n",
    "1. NumPy\n",
    "2. Matplotlib\n",
    "3. Pandas\n",
    "4. SciPy\n",
    "5. PyTorch\n",
    "6. Seaborn"
   ]
  },
  {
   "cell_type": "markdown",
   "id": "881c90b7-f349-48a2-baec-f35951addd5c",
   "metadata": {},
   "source": [
    "| Data Science Tools|\n",
    "|:-----------------:|\n",
    "| Matplotlib        |\n",
    "| Tensorflow        |\n",
    "| Jupyter Notebook  |"
   ]
  },
  {
   "cell_type": "markdown",
   "id": "f7884095-cbcf-4e13-b0a1-d8e413595167",
   "metadata": {},
   "source": [
    "### Below are a few examples of evaluating arithmetic expressions in Python.\n"
   ]
  },
  {
   "cell_type": "code",
   "execution_count": 12,
   "id": "9abc7e24-3624-45ba-8b64-75b090ce441f",
   "metadata": {},
   "outputs": [
    {
     "name": "stdout",
     "output_type": "stream",
     "text": [
      "17\n"
     ]
    }
   ],
   "source": [
    "# This a simple arithmetic expression to mutiply then add integers\n",
    "print((3*4) + 5)"
   ]
  },
  {
   "cell_type": "code",
   "execution_count": 11,
   "id": "55e6f1aa-adb3-4717-9002-9bcb4996bff6",
   "metadata": {},
   "outputs": [
    {
     "name": "stdout",
     "output_type": "stream",
     "text": [
      "20\n"
     ]
    }
   ],
   "source": [
    "# This will convert 200 minutes to hours by diving by 60\n",
    "print(200 % 60)"
   ]
  },
  {
   "cell_type": "markdown",
   "id": "2530df18-aff8-42ef-9c3b-7c26ce13500f",
   "metadata": {},
   "source": [
    "## Author\n",
    "Farjana Akter"
   ]
  },
  {
   "cell_type": "code",
   "execution_count": null,
   "id": "d1c72e34-0f01-452b-abdb-06a3fad3c9d8",
   "metadata": {},
   "outputs": [],
   "source": []
  }
 ],
 "metadata": {
  "kernelspec": {
   "display_name": "Python 3 (ipykernel)",
   "language": "python",
   "name": "python3"
  },
  "language_info": {
   "codemirror_mode": {
    "name": "ipython",
    "version": 3
   },
   "file_extension": ".py",
   "mimetype": "text/x-python",
   "name": "python",
   "nbconvert_exporter": "python",
   "pygments_lexer": "ipython3",
   "version": "3.12.8"
  }
 },
 "nbformat": 4,
 "nbformat_minor": 5
}
